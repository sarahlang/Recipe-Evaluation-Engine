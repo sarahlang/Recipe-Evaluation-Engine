{
 "cells": [
  {
   "cell_type": "markdown",
   "id": "abdff0cf",
   "metadata": {},
   "source": [
    "# DS3000 Final Project : Recipe Review Predictor \n",
    "### Group 1: Sarah Lang, Allison Li, Jasmine Wong, David Zambrano"
   ]
  },
  {
   "cell_type": "code",
   "execution_count": 1,
   "id": "67631c0e",
   "metadata": {},
   "outputs": [],
   "source": [
    "# import necessary libraries\n",
    "import ast\n",
    "import pandas as pd\n",
    "import matplotlib.pyplot as plt\n",
    "from collections import Counter\n",
    "import math\n",
    "import numpy as np\n",
    "from sklearn.model_selection import KFold\n",
    "from sklearn.model_selection import train_test_split\n",
    "import seaborn as sns\n",
    "sns.set_theme()"
   ]
  },
  {
   "cell_type": "markdown",
   "id": "13f14861",
   "metadata": {},
   "source": [
    "# Phase 1: Reading in the Data"
   ]
  },
  {
   "cell_type": "markdown",
   "id": "ef9f98c3",
   "metadata": {},
   "source": [
    "## Import and clean data"
   ]
  },
  {
   "cell_type": "code",
   "execution_count": 56,
   "id": "c42fbc45",
   "metadata": {},
   "outputs": [
    {
     "data": {
      "text/html": [
       "<div>\n",
       "<style scoped>\n",
       "    .dataframe tbody tr th:only-of-type {\n",
       "        vertical-align: middle;\n",
       "    }\n",
       "\n",
       "    .dataframe tbody tr th {\n",
       "        vertical-align: top;\n",
       "    }\n",
       "\n",
       "    .dataframe thead th {\n",
       "        text-align: right;\n",
       "    }\n",
       "</style>\n",
       "<table border=\"1\" class=\"dataframe\">\n",
       "  <thead>\n",
       "    <tr style=\"text-align: right;\">\n",
       "      <th></th>\n",
       "      <th>name</th>\n",
       "      <th>id</th>\n",
       "      <th>minutes</th>\n",
       "      <th>contributor_id</th>\n",
       "      <th>submitted</th>\n",
       "      <th>tags</th>\n",
       "      <th>nutrition</th>\n",
       "      <th>n_steps</th>\n",
       "      <th>steps</th>\n",
       "      <th>description</th>\n",
       "      <th>ingredients</th>\n",
       "      <th>n_ingredients</th>\n",
       "    </tr>\n",
       "  </thead>\n",
       "  <tbody>\n",
       "    <tr>\n",
       "      <th>0</th>\n",
       "      <td>arriba   baked winter squash mexican style</td>\n",
       "      <td>137739</td>\n",
       "      <td>55</td>\n",
       "      <td>47892</td>\n",
       "      <td>2005-09-16</td>\n",
       "      <td>['60-minutes-or-less', 'time-to-make', 'course...</td>\n",
       "      <td>[51.5, 0.0, 13.0, 0.0, 2.0, 0.0, 4.0]</td>\n",
       "      <td>11</td>\n",
       "      <td>['make a choice and proceed with recipe', 'dep...</td>\n",
       "      <td>autumn is my favorite time of year to cook! th...</td>\n",
       "      <td>['winter squash', 'mexican seasoning', 'mixed ...</td>\n",
       "      <td>7</td>\n",
       "    </tr>\n",
       "    <tr>\n",
       "      <th>1</th>\n",
       "      <td>a bit different  breakfast pizza</td>\n",
       "      <td>31490</td>\n",
       "      <td>30</td>\n",
       "      <td>26278</td>\n",
       "      <td>2002-06-17</td>\n",
       "      <td>['30-minutes-or-less', 'time-to-make', 'course...</td>\n",
       "      <td>[173.4, 18.0, 0.0, 17.0, 22.0, 35.0, 1.0]</td>\n",
       "      <td>9</td>\n",
       "      <td>['preheat oven to 425 degrees f', 'press dough...</td>\n",
       "      <td>this recipe calls for the crust to be prebaked...</td>\n",
       "      <td>['prepared pizza crust', 'sausage patty', 'egg...</td>\n",
       "      <td>6</td>\n",
       "    </tr>\n",
       "    <tr>\n",
       "      <th>2</th>\n",
       "      <td>all in the kitchen  chili</td>\n",
       "      <td>112140</td>\n",
       "      <td>130</td>\n",
       "      <td>196586</td>\n",
       "      <td>2005-02-25</td>\n",
       "      <td>['time-to-make', 'course', 'preparation', 'mai...</td>\n",
       "      <td>[269.8, 22.0, 32.0, 48.0, 39.0, 27.0, 5.0]</td>\n",
       "      <td>6</td>\n",
       "      <td>['brown ground beef in large pot', 'add choppe...</td>\n",
       "      <td>this modified version of 'mom's' chili was a h...</td>\n",
       "      <td>['ground beef', 'yellow onions', 'diced tomato...</td>\n",
       "      <td>13</td>\n",
       "    </tr>\n",
       "    <tr>\n",
       "      <th>3</th>\n",
       "      <td>alouette  potatoes</td>\n",
       "      <td>59389</td>\n",
       "      <td>45</td>\n",
       "      <td>68585</td>\n",
       "      <td>2003-04-14</td>\n",
       "      <td>['60-minutes-or-less', 'time-to-make', 'course...</td>\n",
       "      <td>[368.1, 17.0, 10.0, 2.0, 14.0, 8.0, 20.0]</td>\n",
       "      <td>11</td>\n",
       "      <td>['place potatoes in a large pot of lightly sal...</td>\n",
       "      <td>this is a super easy, great tasting, make ahea...</td>\n",
       "      <td>['spreadable cheese with garlic and herbs', 'n...</td>\n",
       "      <td>11</td>\n",
       "    </tr>\n",
       "    <tr>\n",
       "      <th>4</th>\n",
       "      <td>amish  tomato ketchup  for canning</td>\n",
       "      <td>44061</td>\n",
       "      <td>190</td>\n",
       "      <td>41706</td>\n",
       "      <td>2002-10-25</td>\n",
       "      <td>['weeknight', 'time-to-make', 'course', 'main-...</td>\n",
       "      <td>[352.9, 1.0, 337.0, 23.0, 3.0, 0.0, 28.0]</td>\n",
       "      <td>5</td>\n",
       "      <td>['mix all ingredients&amp; boil for 2 1 / 2 hours ...</td>\n",
       "      <td>my dh's amish mother raised him on this recipe...</td>\n",
       "      <td>['tomato juice', 'apple cider vinegar', 'sugar...</td>\n",
       "      <td>8</td>\n",
       "    </tr>\n",
       "  </tbody>\n",
       "</table>\n",
       "</div>"
      ],
      "text/plain": [
       "                                         name      id  minutes  \\\n",
       "0  arriba   baked winter squash mexican style  137739       55   \n",
       "1            a bit different  breakfast pizza   31490       30   \n",
       "2                   all in the kitchen  chili  112140      130   \n",
       "3                          alouette  potatoes   59389       45   \n",
       "4          amish  tomato ketchup  for canning   44061      190   \n",
       "\n",
       "   contributor_id   submitted  \\\n",
       "0           47892  2005-09-16   \n",
       "1           26278  2002-06-17   \n",
       "2          196586  2005-02-25   \n",
       "3           68585  2003-04-14   \n",
       "4           41706  2002-10-25   \n",
       "\n",
       "                                                tags  \\\n",
       "0  ['60-minutes-or-less', 'time-to-make', 'course...   \n",
       "1  ['30-minutes-or-less', 'time-to-make', 'course...   \n",
       "2  ['time-to-make', 'course', 'preparation', 'mai...   \n",
       "3  ['60-minutes-or-less', 'time-to-make', 'course...   \n",
       "4  ['weeknight', 'time-to-make', 'course', 'main-...   \n",
       "\n",
       "                                    nutrition  n_steps  \\\n",
       "0       [51.5, 0.0, 13.0, 0.0, 2.0, 0.0, 4.0]       11   \n",
       "1   [173.4, 18.0, 0.0, 17.0, 22.0, 35.0, 1.0]        9   \n",
       "2  [269.8, 22.0, 32.0, 48.0, 39.0, 27.0, 5.0]        6   \n",
       "3   [368.1, 17.0, 10.0, 2.0, 14.0, 8.0, 20.0]       11   \n",
       "4   [352.9, 1.0, 337.0, 23.0, 3.0, 0.0, 28.0]        5   \n",
       "\n",
       "                                               steps  \\\n",
       "0  ['make a choice and proceed with recipe', 'dep...   \n",
       "1  ['preheat oven to 425 degrees f', 'press dough...   \n",
       "2  ['brown ground beef in large pot', 'add choppe...   \n",
       "3  ['place potatoes in a large pot of lightly sal...   \n",
       "4  ['mix all ingredients& boil for 2 1 / 2 hours ...   \n",
       "\n",
       "                                         description  \\\n",
       "0  autumn is my favorite time of year to cook! th...   \n",
       "1  this recipe calls for the crust to be prebaked...   \n",
       "2  this modified version of 'mom's' chili was a h...   \n",
       "3  this is a super easy, great tasting, make ahea...   \n",
       "4  my dh's amish mother raised him on this recipe...   \n",
       "\n",
       "                                         ingredients  n_ingredients  \n",
       "0  ['winter squash', 'mexican seasoning', 'mixed ...              7  \n",
       "1  ['prepared pizza crust', 'sausage patty', 'egg...              6  \n",
       "2  ['ground beef', 'yellow onions', 'diced tomato...             13  \n",
       "3  ['spreadable cheese with garlic and herbs', 'n...             11  \n",
       "4  ['tomato juice', 'apple cider vinegar', 'sugar...              8  "
      ]
     },
     "execution_count": 56,
     "metadata": {},
     "output_type": "execute_result"
    }
   ],
   "source": [
    "# import raw recipes into df\n",
    "raw_recipes = pd.read_csv('RAW_recipes.csv')\n",
    "raw_recipes.head(5)"
   ]
  },
  {
   "cell_type": "code",
   "execution_count": 4,
   "id": "83c0414d",
   "metadata": {
    "scrolled": true
   },
   "outputs": [
    {
     "data": {
      "text/plain": [
       "(231637, 12)"
      ]
     },
     "execution_count": 4,
     "metadata": {},
     "output_type": "execute_result"
    }
   ],
   "source": [
    "# check for duplicates; found none\n",
    "raw_recipes = raw_recipes.drop_duplicates(keep = False)\n",
    "raw_recipes.shape"
   ]
  },
  {
   "cell_type": "markdown",
   "id": "f3730b04",
   "metadata": {},
   "source": [
    "Below we selected the necessary columns we would need for data analysis from `raw_recipes` and created a new dataframe called `clean_recipes`."
   ]
  },
  {
   "cell_type": "code",
   "execution_count": 5,
   "id": "4d7448dd",
   "metadata": {},
   "outputs": [
    {
     "data": {
      "text/html": [
       "<div>\n",
       "<style scoped>\n",
       "    .dataframe tbody tr th:only-of-type {\n",
       "        vertical-align: middle;\n",
       "    }\n",
       "\n",
       "    .dataframe tbody tr th {\n",
       "        vertical-align: top;\n",
       "    }\n",
       "\n",
       "    .dataframe thead th {\n",
       "        text-align: right;\n",
       "    }\n",
       "</style>\n",
       "<table border=\"1\" class=\"dataframe\">\n",
       "  <thead>\n",
       "    <tr style=\"text-align: right;\">\n",
       "      <th></th>\n",
       "      <th>id</th>\n",
       "      <th>name</th>\n",
       "      <th>minutes</th>\n",
       "      <th>n_steps</th>\n",
       "      <th>steps</th>\n",
       "      <th>n_ingredients</th>\n",
       "      <th>ingredients</th>\n",
       "      <th>nutrition</th>\n",
       "    </tr>\n",
       "  </thead>\n",
       "  <tbody>\n",
       "    <tr>\n",
       "      <th>0</th>\n",
       "      <td>137739</td>\n",
       "      <td>arriba   baked winter squash mexican style</td>\n",
       "      <td>55</td>\n",
       "      <td>11</td>\n",
       "      <td>['make a choice and proceed with recipe', 'dep...</td>\n",
       "      <td>7</td>\n",
       "      <td>['winter squash', 'mexican seasoning', 'mixed ...</td>\n",
       "      <td>[51.5, 0.0, 13.0, 0.0, 2.0, 0.0, 4.0]</td>\n",
       "    </tr>\n",
       "    <tr>\n",
       "      <th>1</th>\n",
       "      <td>31490</td>\n",
       "      <td>a bit different  breakfast pizza</td>\n",
       "      <td>30</td>\n",
       "      <td>9</td>\n",
       "      <td>['preheat oven to 425 degrees f', 'press dough...</td>\n",
       "      <td>6</td>\n",
       "      <td>['prepared pizza crust', 'sausage patty', 'egg...</td>\n",
       "      <td>[173.4, 18.0, 0.0, 17.0, 22.0, 35.0, 1.0]</td>\n",
       "    </tr>\n",
       "    <tr>\n",
       "      <th>2</th>\n",
       "      <td>112140</td>\n",
       "      <td>all in the kitchen  chili</td>\n",
       "      <td>130</td>\n",
       "      <td>6</td>\n",
       "      <td>['brown ground beef in large pot', 'add choppe...</td>\n",
       "      <td>13</td>\n",
       "      <td>['ground beef', 'yellow onions', 'diced tomato...</td>\n",
       "      <td>[269.8, 22.0, 32.0, 48.0, 39.0, 27.0, 5.0]</td>\n",
       "    </tr>\n",
       "    <tr>\n",
       "      <th>3</th>\n",
       "      <td>59389</td>\n",
       "      <td>alouette  potatoes</td>\n",
       "      <td>45</td>\n",
       "      <td>11</td>\n",
       "      <td>['place potatoes in a large pot of lightly sal...</td>\n",
       "      <td>11</td>\n",
       "      <td>['spreadable cheese with garlic and herbs', 'n...</td>\n",
       "      <td>[368.1, 17.0, 10.0, 2.0, 14.0, 8.0, 20.0]</td>\n",
       "    </tr>\n",
       "    <tr>\n",
       "      <th>4</th>\n",
       "      <td>44061</td>\n",
       "      <td>amish  tomato ketchup  for canning</td>\n",
       "      <td>190</td>\n",
       "      <td>5</td>\n",
       "      <td>['mix all ingredients&amp; boil for 2 1 / 2 hours ...</td>\n",
       "      <td>8</td>\n",
       "      <td>['tomato juice', 'apple cider vinegar', 'sugar...</td>\n",
       "      <td>[352.9, 1.0, 337.0, 23.0, 3.0, 0.0, 28.0]</td>\n",
       "    </tr>\n",
       "  </tbody>\n",
       "</table>\n",
       "</div>"
      ],
      "text/plain": [
       "       id                                        name  minutes  n_steps  \\\n",
       "0  137739  arriba   baked winter squash mexican style       55       11   \n",
       "1   31490            a bit different  breakfast pizza       30        9   \n",
       "2  112140                   all in the kitchen  chili      130        6   \n",
       "3   59389                          alouette  potatoes       45       11   \n",
       "4   44061          amish  tomato ketchup  for canning      190        5   \n",
       "\n",
       "                                               steps  n_ingredients  \\\n",
       "0  ['make a choice and proceed with recipe', 'dep...              7   \n",
       "1  ['preheat oven to 425 degrees f', 'press dough...              6   \n",
       "2  ['brown ground beef in large pot', 'add choppe...             13   \n",
       "3  ['place potatoes in a large pot of lightly sal...             11   \n",
       "4  ['mix all ingredients& boil for 2 1 / 2 hours ...              8   \n",
       "\n",
       "                                         ingredients  \\\n",
       "0  ['winter squash', 'mexican seasoning', 'mixed ...   \n",
       "1  ['prepared pizza crust', 'sausage patty', 'egg...   \n",
       "2  ['ground beef', 'yellow onions', 'diced tomato...   \n",
       "3  ['spreadable cheese with garlic and herbs', 'n...   \n",
       "4  ['tomato juice', 'apple cider vinegar', 'sugar...   \n",
       "\n",
       "                                    nutrition  \n",
       "0       [51.5, 0.0, 13.0, 0.0, 2.0, 0.0, 4.0]  \n",
       "1   [173.4, 18.0, 0.0, 17.0, 22.0, 35.0, 1.0]  \n",
       "2  [269.8, 22.0, 32.0, 48.0, 39.0, 27.0, 5.0]  \n",
       "3   [368.1, 17.0, 10.0, 2.0, 14.0, 8.0, 20.0]  \n",
       "4   [352.9, 1.0, 337.0, 23.0, 3.0, 0.0, 28.0]  "
      ]
     },
     "execution_count": 5,
     "metadata": {},
     "output_type": "execute_result"
    }
   ],
   "source": [
    "# filter out unnecessary columns\n",
    "clean_recipes = raw_recipes[['id', 'name', 'minutes', 'n_steps', 'steps','n_ingredients',\n",
    "                              'ingredients','nutrition']]\n",
    "clean_recipes.head()"
   ]
  },
  {
   "cell_type": "markdown",
   "id": "a7cc7425",
   "metadata": {},
   "source": [
    "## Compute average ratings\n",
    "\n",
    "Here we imported the `raw_interactions` dataset which gives us information on how users rated different recipes. We used this dataset to calculate the average rating for each recipe by aggregating all individual scores and grouping by the `recipe_id` variable, eventually giving us the dataframe `ratings`."
   ]
  },
  {
   "cell_type": "code",
   "execution_count": 6,
   "id": "be63e785",
   "metadata": {},
   "outputs": [
    {
     "data": {
      "text/html": [
       "<div>\n",
       "<style scoped>\n",
       "    .dataframe tbody tr th:only-of-type {\n",
       "        vertical-align: middle;\n",
       "    }\n",
       "\n",
       "    .dataframe tbody tr th {\n",
       "        vertical-align: top;\n",
       "    }\n",
       "\n",
       "    .dataframe thead th {\n",
       "        text-align: right;\n",
       "    }\n",
       "</style>\n",
       "<table border=\"1\" class=\"dataframe\">\n",
       "  <thead>\n",
       "    <tr style=\"text-align: right;\">\n",
       "      <th></th>\n",
       "      <th>user_id</th>\n",
       "      <th>recipe_id</th>\n",
       "      <th>date</th>\n",
       "      <th>rating</th>\n",
       "      <th>review</th>\n",
       "    </tr>\n",
       "  </thead>\n",
       "  <tbody>\n",
       "    <tr>\n",
       "      <th>0</th>\n",
       "      <td>38094</td>\n",
       "      <td>40893</td>\n",
       "      <td>2003-02-17</td>\n",
       "      <td>4</td>\n",
       "      <td>Great with a salad. Cooked on top of stove for...</td>\n",
       "    </tr>\n",
       "    <tr>\n",
       "      <th>1</th>\n",
       "      <td>1293707</td>\n",
       "      <td>40893</td>\n",
       "      <td>2011-12-21</td>\n",
       "      <td>5</td>\n",
       "      <td>So simple, so delicious! Great for chilly fall...</td>\n",
       "    </tr>\n",
       "    <tr>\n",
       "      <th>2</th>\n",
       "      <td>8937</td>\n",
       "      <td>44394</td>\n",
       "      <td>2002-12-01</td>\n",
       "      <td>4</td>\n",
       "      <td>This worked very well and is EASY.  I used not...</td>\n",
       "    </tr>\n",
       "    <tr>\n",
       "      <th>3</th>\n",
       "      <td>126440</td>\n",
       "      <td>85009</td>\n",
       "      <td>2010-02-27</td>\n",
       "      <td>5</td>\n",
       "      <td>I made the Mexican topping and took it to bunk...</td>\n",
       "    </tr>\n",
       "    <tr>\n",
       "      <th>4</th>\n",
       "      <td>57222</td>\n",
       "      <td>85009</td>\n",
       "      <td>2011-10-01</td>\n",
       "      <td>5</td>\n",
       "      <td>Made the cheddar bacon topping, adding a sprin...</td>\n",
       "    </tr>\n",
       "  </tbody>\n",
       "</table>\n",
       "</div>"
      ],
      "text/plain": [
       "   user_id  recipe_id        date  rating  \\\n",
       "0    38094      40893  2003-02-17       4   \n",
       "1  1293707      40893  2011-12-21       5   \n",
       "2     8937      44394  2002-12-01       4   \n",
       "3   126440      85009  2010-02-27       5   \n",
       "4    57222      85009  2011-10-01       5   \n",
       "\n",
       "                                              review  \n",
       "0  Great with a salad. Cooked on top of stove for...  \n",
       "1  So simple, so delicious! Great for chilly fall...  \n",
       "2  This worked very well and is EASY.  I used not...  \n",
       "3  I made the Mexican topping and took it to bunk...  \n",
       "4  Made the cheddar bacon topping, adding a sprin...  "
      ]
     },
     "execution_count": 6,
     "metadata": {},
     "output_type": "execute_result"
    }
   ],
   "source": [
    "# import raw_interactions dataset to dataframe\n",
    "raw_interactions = pd.read_csv('RAW_interactions.csv')\n",
    "raw_interactions.head()"
   ]
  },
  {
   "cell_type": "code",
   "execution_count": 7,
   "id": "9696db3d",
   "metadata": {},
   "outputs": [
    {
     "data": {
      "text/html": [
       "<div>\n",
       "<style scoped>\n",
       "    .dataframe tbody tr th:only-of-type {\n",
       "        vertical-align: middle;\n",
       "    }\n",
       "\n",
       "    .dataframe tbody tr th {\n",
       "        vertical-align: top;\n",
       "    }\n",
       "\n",
       "    .dataframe thead th {\n",
       "        text-align: right;\n",
       "    }\n",
       "</style>\n",
       "<table border=\"1\" class=\"dataframe\">\n",
       "  <thead>\n",
       "    <tr style=\"text-align: right;\">\n",
       "      <th></th>\n",
       "      <th>recipe_id</th>\n",
       "      <th>rating</th>\n",
       "    </tr>\n",
       "  </thead>\n",
       "  <tbody>\n",
       "    <tr>\n",
       "      <th>0</th>\n",
       "      <td>40893</td>\n",
       "      <td>4</td>\n",
       "    </tr>\n",
       "    <tr>\n",
       "      <th>1</th>\n",
       "      <td>40893</td>\n",
       "      <td>5</td>\n",
       "    </tr>\n",
       "    <tr>\n",
       "      <th>2</th>\n",
       "      <td>44394</td>\n",
       "      <td>4</td>\n",
       "    </tr>\n",
       "    <tr>\n",
       "      <th>3</th>\n",
       "      <td>85009</td>\n",
       "      <td>5</td>\n",
       "    </tr>\n",
       "    <tr>\n",
       "      <th>4</th>\n",
       "      <td>85009</td>\n",
       "      <td>5</td>\n",
       "    </tr>\n",
       "  </tbody>\n",
       "</table>\n",
       "</div>"
      ],
      "text/plain": [
       "   recipe_id  rating\n",
       "0      40893       4\n",
       "1      40893       5\n",
       "2      44394       4\n",
       "3      85009       5\n",
       "4      85009       5"
      ]
     },
     "execution_count": 7,
     "metadata": {},
     "output_type": "execute_result"
    }
   ],
   "source": [
    "# drop unnecessary columns\n",
    "raw_interactions = raw_interactions.drop(['date', 'review', 'user_id'], axis = 1)\n",
    "raw_interactions.head()"
   ]
  },
  {
   "cell_type": "code",
   "execution_count": 8,
   "id": "8a82313b",
   "metadata": {},
   "outputs": [],
   "source": [
    "# groupby recipe_id and aggregate the mean ratings\n",
    "ratings = raw_interactions.groupby('recipe_id', as_index = False)['rating'].mean()\n",
    "ratings = ratings.rename(columns = {'recipe_id': 'id', 'rating' : 'avg_rating'})"
   ]
  },
  {
   "cell_type": "code",
   "execution_count": 9,
   "id": "20087337",
   "metadata": {},
   "outputs": [
    {
     "name": "stdout",
     "output_type": "stream",
     "text": [
      "   id  avg_rating\n",
      "0  38    4.250000\n",
      "1  39    3.000000\n",
      "2  40    4.333333\n",
      "3  41    4.500000\n",
      "4  43    1.000000\n"
     ]
    }
   ],
   "source": [
    "print(ratings.head())"
   ]
  },
  {
   "cell_type": "markdown",
   "id": "92cd9167",
   "metadata": {},
   "source": [
    "We then merged the average ratings data with the `clean_recipes` dataset.\n",
    "\n",
    "There were a number of recipes that took an unreasonable amount of time to cook, so we chose to eliminate these outliers."
   ]
  },
  {
   "cell_type": "code",
   "execution_count": 10,
   "id": "96ec42f0",
   "metadata": {},
   "outputs": [],
   "source": [
    "# add average ratings to each recipe\n",
    "clean_recipes = clean_recipes.merge(ratings, on = 'id')"
   ]
  },
  {
   "cell_type": "code",
   "execution_count": 11,
   "id": "340ac849",
   "metadata": {},
   "outputs": [
    {
     "name": "stdout",
     "output_type": "stream",
     "text": [
      "<class 'pandas.core.frame.DataFrame'>\n",
      "Int64Index: 221667 entries, 0 to 231636\n",
      "Data columns (total 9 columns):\n",
      " #   Column         Non-Null Count   Dtype  \n",
      "---  ------         --------------   -----  \n",
      " 0   id             221667 non-null  int64  \n",
      " 1   name           221666 non-null  object \n",
      " 2   minutes        221667 non-null  int64  \n",
      " 3   n_steps        221667 non-null  int64  \n",
      " 4   steps          221667 non-null  object \n",
      " 5   n_ingredients  221667 non-null  int64  \n",
      " 6   ingredients    221667 non-null  object \n",
      " 7   nutrition      221667 non-null  object \n",
      " 8   avg_rating     221667 non-null  float64\n",
      "dtypes: float64(1), int64(4), object(4)\n",
      "memory usage: 16.9+ MB\n"
     ]
    }
   ],
   "source": [
    "# only include recipes that can be completed within 5 hours\n",
    "clean_recipes = clean_recipes.loc[(clean_recipes['minutes'] <= 300)]\n",
    "clean_recipes.info()"
   ]
  },
  {
   "cell_type": "code",
   "execution_count": 12,
   "id": "56fab207",
   "metadata": {},
   "outputs": [
    {
     "name": "stdout",
     "output_type": "stream",
     "text": [
      "       id                                        name  minutes  n_steps  \\\n",
      "0  137739  arriba   baked winter squash mexican style       55       11   \n",
      "1   31490            a bit different  breakfast pizza       30        9   \n",
      "2  112140                   all in the kitchen  chili      130        6   \n",
      "3   59389                          alouette  potatoes       45       11   \n",
      "4   44061          amish  tomato ketchup  for canning      190        5   \n",
      "\n",
      "                                               steps  n_ingredients  \\\n",
      "0  ['make a choice and proceed with recipe', 'dep...              7   \n",
      "1  ['preheat oven to 425 degrees f', 'press dough...              6   \n",
      "2  ['brown ground beef in large pot', 'add choppe...             13   \n",
      "3  ['place potatoes in a large pot of lightly sal...             11   \n",
      "4  ['mix all ingredients& boil for 2 1 / 2 hours ...              8   \n",
      "\n",
      "                                         ingredients  \\\n",
      "0  ['winter squash', 'mexican seasoning', 'mixed ...   \n",
      "1  ['prepared pizza crust', 'sausage patty', 'egg...   \n",
      "2  ['ground beef', 'yellow onions', 'diced tomato...   \n",
      "3  ['spreadable cheese with garlic and herbs', 'n...   \n",
      "4  ['tomato juice', 'apple cider vinegar', 'sugar...   \n",
      "\n",
      "                                    nutrition  avg_rating  \n",
      "0       [51.5, 0.0, 13.0, 0.0, 2.0, 0.0, 4.0]         5.0  \n",
      "1   [173.4, 18.0, 0.0, 17.0, 22.0, 35.0, 1.0]         3.5  \n",
      "2  [269.8, 22.0, 32.0, 48.0, 39.0, 27.0, 5.0]         4.0  \n",
      "3   [368.1, 17.0, 10.0, 2.0, 14.0, 8.0, 20.0]         4.5  \n",
      "4   [352.9, 1.0, 337.0, 23.0, 3.0, 0.0, 28.0]         5.0  \n"
     ]
    }
   ],
   "source": [
    "print(clean_recipes.head())"
   ]
  },
  {
   "cell_type": "code",
   "execution_count": 13,
   "id": "bbf09b83",
   "metadata": {},
   "outputs": [
    {
     "data": {
      "text/plain": [
       "(221667, 9)"
      ]
     },
     "execution_count": 13,
     "metadata": {},
     "output_type": "execute_result"
    }
   ],
   "source": [
    "clean_recipes.shape"
   ]
  },
  {
   "cell_type": "code",
   "execution_count": 14,
   "id": "9115dcc2",
   "metadata": {},
   "outputs": [
    {
     "data": {
      "text/plain": [
       "(221667, 9)"
      ]
     },
     "execution_count": 14,
     "metadata": {},
     "output_type": "execute_result"
    }
   ],
   "source": [
    "# drop rows with na values\n",
    "clean_recipes.dropna()\n",
    "clean_recipes.shape"
   ]
  },
  {
   "cell_type": "markdown",
   "id": "b027f9c8",
   "metadata": {},
   "source": [
    "## Extract nutrition information\n",
    "\n",
    "Here we split up the `nutrition` column into separate variables regarding nutrition information.\n",
    "\n",
    "The nutrition information included the calorie count, total fat, sugar, sodium, protein, saturated fat, and carbohydrates."
   ]
  },
  {
   "cell_type": "code",
   "execution_count": 15,
   "id": "5464e52b",
   "metadata": {},
   "outputs": [],
   "source": [
    "def str_to_lst(string):\n",
    "    '''\n",
    "    str_to_lst turns a string in format '3, 4, 5' to a list ['3', '4', '5']\n",
    "    \n",
    "    parameters: \n",
    "    string(str) : string of interest\n",
    "    \n",
    "    returns:\n",
    "    string(lst) : mutated string as a list\n",
    "    '''\n",
    "    string = string.split(', ')\n",
    "    \n",
    "    return string"
   ]
  },
  {
   "cell_type": "code",
   "execution_count": 16,
   "id": "c35eb67c",
   "metadata": {},
   "outputs": [
    {
     "name": "stdout",
     "output_type": "stream",
     "text": [
      "                                    nutrition\n",
      "0       [51.5, 0.0, 13.0, 0.0, 2.0, 0.0, 4.0]\n",
      "1   [173.4, 18.0, 0.0, 17.0, 22.0, 35.0, 1.0]\n",
      "2  [269.8, 22.0, 32.0, 48.0, 39.0, 27.0, 5.0]\n",
      "3   [368.1, 17.0, 10.0, 2.0, 14.0, 8.0, 20.0]\n",
      "4   [352.9, 1.0, 337.0, 23.0, 3.0, 0.0, 28.0]\n"
     ]
    }
   ],
   "source": [
    "# initialize a nutrition dataframe\n",
    "nutrition = pd.DataFrame(clean_recipes['nutrition'])\n",
    "print(nutrition.head())"
   ]
  },
  {
   "cell_type": "code",
   "execution_count": 17,
   "id": "98cb9acf",
   "metadata": {},
   "outputs": [
    {
     "name": "stdout",
     "output_type": "stream",
     "text": [
      "                                    nutrition\n",
      "0       [51.5, 0.0, 13.0, 0.0, 2.0, 0.0, 4.0]\n",
      "1   [173.4, 18.0, 0.0, 17.0, 22.0, 35.0, 1.0]\n",
      "2  [269.8, 22.0, 32.0, 48.0, 39.0, 27.0, 5.0]\n",
      "3   [368.1, 17.0, 10.0, 2.0, 14.0, 8.0, 20.0]\n",
      "4   [352.9, 1.0, 337.0, 23.0, 3.0, 0.0, 28.0]\n"
     ]
    }
   ],
   "source": [
    "# remove brackets and turn to list\n",
    "nutrition['nutrition'] = nutrition['nutrition'].apply(lambda x: x.replace('[', ''))\n",
    "nutrition['nutrition'] = nutrition['nutrition'].apply(lambda x: x.replace(']', ''))\n",
    "nutrition['nutrition'] = nutrition['nutrition'].apply(lambda x: str_to_lst(x))\n",
    "print(nutrition.head())"
   ]
  },
  {
   "cell_type": "code",
   "execution_count": 18,
   "id": "3afc1c21",
   "metadata": {},
   "outputs": [
    {
     "name": "stdout",
     "output_type": "stream",
     "text": [
      "  calories total_fat  sugar sodium protein saturated_fat carbs\n",
      "0     51.5       0.0   13.0    0.0     2.0           0.0   4.0\n",
      "1    173.4      18.0    0.0   17.0    22.0          35.0   1.0\n",
      "2    269.8      22.0   32.0   48.0    39.0          27.0   5.0\n",
      "3    368.1      17.0   10.0    2.0    14.0           8.0  20.0\n",
      "4    352.9       1.0  337.0   23.0     3.0           0.0  28.0\n"
     ]
    }
   ],
   "source": [
    "# rename columns and print out the new dataframe\n",
    "nutrition = pd.DataFrame(nutrition['nutrition'].to_list(), columns = ['calories', 'total_fat', 'sugar', 'sodium',\n",
    "                                                        'protein', 'saturated_fat','carbs'])\n",
    "print(nutrition.head())"
   ]
  },
  {
   "cell_type": "code",
   "execution_count": 19,
   "id": "6581f179",
   "metadata": {},
   "outputs": [
    {
     "name": "stdout",
     "output_type": "stream",
     "text": [
      "  calories total_fat  sugar sodium protein saturated_fat carbs  row_num\n",
      "0     51.5       0.0   13.0    0.0     2.0           0.0   4.0        0\n",
      "1    173.4      18.0    0.0   17.0    22.0          35.0   1.0        1\n",
      "2    269.8      22.0   32.0   48.0    39.0          27.0   5.0        2\n",
      "3    368.1      17.0   10.0    2.0    14.0           8.0  20.0        3\n",
      "4    352.9       1.0  337.0   23.0     3.0           0.0  28.0        4\n"
     ]
    }
   ],
   "source": [
    "# create a row_num column to assist with merging\n",
    "nutrition['row_num'] = np.arange(len(nutrition))\n",
    "print(nutrition.head())"
   ]
  },
  {
   "cell_type": "code",
   "execution_count": 20,
   "id": "4704e993",
   "metadata": {},
   "outputs": [],
   "source": [
    "# add row_number to recipes dataframe and merge with nutrition information\n",
    "clean_recipes['row_num'] = np.arange(len(clean_recipes))\n",
    "clean_recipes = nutrition.merge(clean_recipes, left_on = 'row_num', right_on = 'row_num')"
   ]
  },
  {
   "cell_type": "code",
   "execution_count": 21,
   "id": "ddff4e64",
   "metadata": {
    "scrolled": false
   },
   "outputs": [
    {
     "data": {
      "text/html": [
       "<div>\n",
       "<style scoped>\n",
       "    .dataframe tbody tr th:only-of-type {\n",
       "        vertical-align: middle;\n",
       "    }\n",
       "\n",
       "    .dataframe tbody tr th {\n",
       "        vertical-align: top;\n",
       "    }\n",
       "\n",
       "    .dataframe thead th {\n",
       "        text-align: right;\n",
       "    }\n",
       "</style>\n",
       "<table border=\"1\" class=\"dataframe\">\n",
       "  <thead>\n",
       "    <tr style=\"text-align: right;\">\n",
       "      <th></th>\n",
       "      <th>calories</th>\n",
       "      <th>total_fat</th>\n",
       "      <th>sugar</th>\n",
       "      <th>sodium</th>\n",
       "      <th>protein</th>\n",
       "      <th>saturated_fat</th>\n",
       "      <th>carbs</th>\n",
       "      <th>id</th>\n",
       "      <th>name</th>\n",
       "      <th>minutes</th>\n",
       "      <th>n_steps</th>\n",
       "      <th>steps</th>\n",
       "      <th>n_ingredients</th>\n",
       "      <th>ingredients</th>\n",
       "      <th>avg_rating</th>\n",
       "    </tr>\n",
       "  </thead>\n",
       "  <tbody>\n",
       "    <tr>\n",
       "      <th>0</th>\n",
       "      <td>51.5</td>\n",
       "      <td>0.0</td>\n",
       "      <td>13.0</td>\n",
       "      <td>0.0</td>\n",
       "      <td>2.0</td>\n",
       "      <td>0.0</td>\n",
       "      <td>4.0</td>\n",
       "      <td>137739</td>\n",
       "      <td>arriba   baked winter squash mexican style</td>\n",
       "      <td>55</td>\n",
       "      <td>11</td>\n",
       "      <td>['make a choice and proceed with recipe', 'dep...</td>\n",
       "      <td>7</td>\n",
       "      <td>['winter squash', 'mexican seasoning', 'mixed ...</td>\n",
       "      <td>5.0</td>\n",
       "    </tr>\n",
       "    <tr>\n",
       "      <th>1</th>\n",
       "      <td>173.4</td>\n",
       "      <td>18.0</td>\n",
       "      <td>0.0</td>\n",
       "      <td>17.0</td>\n",
       "      <td>22.0</td>\n",
       "      <td>35.0</td>\n",
       "      <td>1.0</td>\n",
       "      <td>31490</td>\n",
       "      <td>a bit different  breakfast pizza</td>\n",
       "      <td>30</td>\n",
       "      <td>9</td>\n",
       "      <td>['preheat oven to 425 degrees f', 'press dough...</td>\n",
       "      <td>6</td>\n",
       "      <td>['prepared pizza crust', 'sausage patty', 'egg...</td>\n",
       "      <td>3.5</td>\n",
       "    </tr>\n",
       "    <tr>\n",
       "      <th>2</th>\n",
       "      <td>269.8</td>\n",
       "      <td>22.0</td>\n",
       "      <td>32.0</td>\n",
       "      <td>48.0</td>\n",
       "      <td>39.0</td>\n",
       "      <td>27.0</td>\n",
       "      <td>5.0</td>\n",
       "      <td>112140</td>\n",
       "      <td>all in the kitchen  chili</td>\n",
       "      <td>130</td>\n",
       "      <td>6</td>\n",
       "      <td>['brown ground beef in large pot', 'add choppe...</td>\n",
       "      <td>13</td>\n",
       "      <td>['ground beef', 'yellow onions', 'diced tomato...</td>\n",
       "      <td>4.0</td>\n",
       "    </tr>\n",
       "    <tr>\n",
       "      <th>3</th>\n",
       "      <td>368.1</td>\n",
       "      <td>17.0</td>\n",
       "      <td>10.0</td>\n",
       "      <td>2.0</td>\n",
       "      <td>14.0</td>\n",
       "      <td>8.0</td>\n",
       "      <td>20.0</td>\n",
       "      <td>59389</td>\n",
       "      <td>alouette  potatoes</td>\n",
       "      <td>45</td>\n",
       "      <td>11</td>\n",
       "      <td>['place potatoes in a large pot of lightly sal...</td>\n",
       "      <td>11</td>\n",
       "      <td>['spreadable cheese with garlic and herbs', 'n...</td>\n",
       "      <td>4.5</td>\n",
       "    </tr>\n",
       "    <tr>\n",
       "      <th>4</th>\n",
       "      <td>352.9</td>\n",
       "      <td>1.0</td>\n",
       "      <td>337.0</td>\n",
       "      <td>23.0</td>\n",
       "      <td>3.0</td>\n",
       "      <td>0.0</td>\n",
       "      <td>28.0</td>\n",
       "      <td>44061</td>\n",
       "      <td>amish  tomato ketchup  for canning</td>\n",
       "      <td>190</td>\n",
       "      <td>5</td>\n",
       "      <td>['mix all ingredients&amp; boil for 2 1 / 2 hours ...</td>\n",
       "      <td>8</td>\n",
       "      <td>['tomato juice', 'apple cider vinegar', 'sugar...</td>\n",
       "      <td>5.0</td>\n",
       "    </tr>\n",
       "  </tbody>\n",
       "</table>\n",
       "</div>"
      ],
      "text/plain": [
       "  calories total_fat  sugar sodium protein saturated_fat carbs      id  \\\n",
       "0     51.5       0.0   13.0    0.0     2.0           0.0   4.0  137739   \n",
       "1    173.4      18.0    0.0   17.0    22.0          35.0   1.0   31490   \n",
       "2    269.8      22.0   32.0   48.0    39.0          27.0   5.0  112140   \n",
       "3    368.1      17.0   10.0    2.0    14.0           8.0  20.0   59389   \n",
       "4    352.9       1.0  337.0   23.0     3.0           0.0  28.0   44061   \n",
       "\n",
       "                                         name  minutes  n_steps  \\\n",
       "0  arriba   baked winter squash mexican style       55       11   \n",
       "1            a bit different  breakfast pizza       30        9   \n",
       "2                   all in the kitchen  chili      130        6   \n",
       "3                          alouette  potatoes       45       11   \n",
       "4          amish  tomato ketchup  for canning      190        5   \n",
       "\n",
       "                                               steps  n_ingredients  \\\n",
       "0  ['make a choice and proceed with recipe', 'dep...              7   \n",
       "1  ['preheat oven to 425 degrees f', 'press dough...              6   \n",
       "2  ['brown ground beef in large pot', 'add choppe...             13   \n",
       "3  ['place potatoes in a large pot of lightly sal...             11   \n",
       "4  ['mix all ingredients& boil for 2 1 / 2 hours ...              8   \n",
       "\n",
       "                                         ingredients  avg_rating  \n",
       "0  ['winter squash', 'mexican seasoning', 'mixed ...         5.0  \n",
       "1  ['prepared pizza crust', 'sausage patty', 'egg...         3.5  \n",
       "2  ['ground beef', 'yellow onions', 'diced tomato...         4.0  \n",
       "3  ['spreadable cheese with garlic and herbs', 'n...         4.5  \n",
       "4  ['tomato juice', 'apple cider vinegar', 'sugar...         5.0  "
      ]
     },
     "execution_count": 21,
     "metadata": {},
     "output_type": "execute_result"
    }
   ],
   "source": [
    "#drop nutrition and row number columns\n",
    "clean_recipes.drop(['row_num', 'nutrition'], axis = 1).head(5)"
   ]
  },
  {
   "cell_type": "markdown",
   "id": "2d2b567d",
   "metadata": {},
   "source": [
    "# Phase 2: EDA and Visualizations"
   ]
  },
  {
   "cell_type": "code",
   "execution_count": 52,
   "id": "7e529f03",
   "metadata": {
    "scrolled": false
   },
   "outputs": [
    {
     "data": {
      "text/plain": [
       "Text(0.5, 1.0, 'Ratings Distribution')"
      ]
     },
     "execution_count": 52,
     "metadata": {},
     "output_type": "execute_result"
    },
    {
     "data": {
      "image/png": "[encoded data removed]",
      "text/plain": [
       "<Figure size 720x576 with 1 Axes>"
      ]
     },
     "metadata": {},
     "output_type": "display_data"
    }
   ],
   "source": [
    "# a histogram of ratings distributions + describe \n",
    "clean_recipes['avg_rating'].plot(kind ='hist', x=\"avg_rating\", figsize=(10, 8), bins=25)\n",
    "\n",
    "plt.xlabel('Rating')\n",
    "plt.ylabel('Frequency')\n",
    "plt.title('Ratings Distribution')"
   ]
  },
  {
   "cell_type": "markdown",
   "id": "124cc0bf",
   "metadata": {},
   "source": [
    "The histogram is skewed to the left, meaning more reviews are concentrated on the higher side. "
   ]
  },
  {
   "cell_type": "code",
   "execution_count": 24,
   "id": "63d946b9",
   "metadata": {},
   "outputs": [
    {
     "data": {
      "text/plain": [
       "count    221667.000000\n",
       "mean          4.352027\n",
       "std           0.985754\n",
       "min           0.000000\n",
       "25%           4.000000\n",
       "50%           4.717949\n",
       "75%           5.000000\n",
       "max           5.000000\n",
       "Name: avg_rating, dtype: float64"
      ]
     },
     "execution_count": 24,
     "metadata": {},
     "output_type": "execute_result"
    }
   ],
   "source": [
    "# report key statistical measures for avg rating column\n",
    "rts = clean_recipes['avg_rating']\n",
    "rts.describe()"
   ]
  },
  {
   "cell_type": "markdown",
   "id": "00999671",
   "metadata": {},
   "source": [
    "The average rating for all recipes is 4.35, which means the data we have are pretty well liked by people who tried the recipes. We can tell from both the mean and the median (4.72) that the data is skewed to the left as well."
   ]
  },
  {
   "cell_type": "code",
   "execution_count": 53,
   "id": "b1dbf847",
   "metadata": {},
   "outputs": [
    {
     "data": {
      "text/plain": [
       "Text(0.5, 0, 'Number of Ingredients')"
      ]
     },
     "execution_count": 53,
     "metadata": {},
     "output_type": "execute_result"
    },
    {
     "data": {
      "image/png": "[encoded data removed]",
      "text/plain": [
       "<Figure size 720x576 with 1 Axes>"
      ]
     },
     "metadata": {},
     "output_type": "display_data"
    }
   ],
   "source": [
    "# a histogram about number of ingredients column\n",
    "clean_recipes['n_ingredients'].plot(kind ='hist', x=\"n_ingredients\", figsize=(10, 8), bins=40)\n",
    "plt.title('Number of Ingredients per Recipe Distribution')\n",
    "plt.xlabel('Number of Ingredients')"
   ]
  },
  {
   "cell_type": "markdown",
   "id": "25e4abd9",
   "metadata": {},
   "source": [
    "The plot above is skewed to the right, signaling there are more recipes with less ingredients."
   ]
  },
  {
   "cell_type": "code",
   "execution_count": 26,
   "id": "5628fecf",
   "metadata": {},
   "outputs": [
    {
     "data": {
      "text/plain": [
       "count    221667.000000\n",
       "mean          9.030144\n",
       "std           3.714422\n",
       "min           1.000000\n",
       "25%           6.000000\n",
       "50%           9.000000\n",
       "75%          11.000000\n",
       "max          43.000000\n",
       "Name: n_ingredients, dtype: float64"
      ]
     },
     "execution_count": 26,
     "metadata": {},
     "output_type": "execute_result"
    }
   ],
   "source": [
    "# report key statisticals measures for n_ingredients column\n",
    "ings = clean_recipes['n_ingredients']\n",
    "ings.describe()"
   ]
  },
  {
   "cell_type": "markdown",
   "id": "5e0a4d32",
   "metadata": {},
   "source": [
    "The average number of ingredients used in all the recipes is 9. This is the same value as the median of the dataset."
   ]
  },
  {
   "cell_type": "code",
   "execution_count": 54,
   "id": "34187f4b",
   "metadata": {},
   "outputs": [
    {
     "data": {
      "text/plain": [
       "Text(0.5, 1.0, 'Cooking Time Distribution')"
      ]
     },
     "execution_count": 54,
     "metadata": {},
     "output_type": "execute_result"
    },
    {
     "data": {
      "image/png": "[encoded data removed]",
      "text/plain": [
       "<Figure size 720x576 with 1 Axes>"
      ]
     },
     "metadata": {},
     "output_type": "display_data"
    }
   ],
   "source": [
    "# a histogram about number of minutes cooking time column\n",
    "clean_recipes['minutes'].plot(kind ='hist', x=\"minutes\", figsize=(10, 8), bins=50)\n",
    "plt.xlabel('Cooking Time (minutes)')\n",
    "plt.title('Cooking Time Distribution')"
   ]
  },
  {
   "cell_type": "markdown",
   "id": "da87bfee",
   "metadata": {},
   "source": [
    "The chart is right skewed, meaning that most recipes take less than 1 or 2 hours to complete"
   ]
  },
  {
   "cell_type": "code",
   "execution_count": 28,
   "id": "5d410431",
   "metadata": {
    "scrolled": false
   },
   "outputs": [
    {
     "data": {
      "text/plain": [
       "count    221667.000000\n",
       "mean         49.176012\n",
       "std          46.586803\n",
       "min           0.000000\n",
       "25%          20.000000\n",
       "50%          35.000000\n",
       "75%          60.000000\n",
       "max         300.000000\n",
       "Name: minutes, dtype: float64"
      ]
     },
     "execution_count": 28,
     "metadata": {},
     "output_type": "execute_result"
    }
   ],
   "source": [
    "# report key statistical measures for avg rating column\n",
    "mins = clean_recipes['minutes']\n",
    "mins.describe()"
   ]
  },
  {
   "cell_type": "markdown",
   "id": "2519c886",
   "metadata": {},
   "source": [
    "The average time to complete a recipe is 49.176 minutes. The standard deviation is pretty big because of some recipes that takes a really long time to make."
   ]
  },
  {
   "cell_type": "markdown",
   "id": "a15931c6",
   "metadata": {},
   "source": [
    "# Phase 3: Model Building"
   ]
  },
  {
   "cell_type": "markdown",
   "id": "651fa12a",
   "metadata": {},
   "source": [
    "## Splitting the Data into Train/Test"
   ]
  },
  {
   "cell_type": "code",
   "execution_count": 29,
   "id": "510762e1",
   "metadata": {},
   "outputs": [],
   "source": [
    "X   = clean_recipes[['n_ingredients', 'n_steps', 'minutes', 'calories', 'total_fat', \n",
    "                     'sugar', 'sodium', 'saturated_fat', 'carbs']] #get the input features\n",
    "y   = clean_recipes['avg_rating']              #get the target"
   ]
  },
  {
   "cell_type": "code",
   "execution_count": 31,
   "id": "2a82e604",
   "metadata": {},
   "outputs": [],
   "source": [
    "#split the data into training and test sets\n",
    "X_train, X_test, y_train, y_test = train_test_split(X,\n",
    "                                                    y,\n",
    "                                                    test_size = 0.3,\n",
    "                                                    random_state = 7,\n",
    "                                        ) "
   ]
  },
  {
   "cell_type": "markdown",
   "id": "7ac1b6e1",
   "metadata": {},
   "source": [
    "## Model 1: KNN Regression Model"
   ]
  },
  {
   "cell_type": "code",
   "execution_count": 32,
   "id": "60cf5506",
   "metadata": {},
   "outputs": [],
   "source": [
    "# import necessary libraries for knn regression\n",
    "from sklearn.neighbors import KNeighborsRegressor\n",
    "from sklearn.metrics import classification_report\n",
    "from sklearn.metrics import mean_squared_error\n",
    "from sklearn.model_selection import GridSearchCV"
   ]
  },
  {
   "cell_type": "code",
   "execution_count": 33,
   "id": "2c1330aa",
   "metadata": {},
   "outputs": [
    {
     "data": {
      "text/plain": [
       "[5,\n",
       " 30,\n",
       " 55,\n",
       " 80,\n",
       " 105,\n",
       " 130,\n",
       " 155,\n",
       " 180,\n",
       " 205,\n",
       " 230,\n",
       " 255,\n",
       " 280,\n",
       " 305,\n",
       " 330,\n",
       " 355,\n",
       " 380,\n",
       " 405,\n",
       " 430,\n",
       " 455,\n",
       " 480,\n",
       " 505,\n",
       " 530,\n",
       " 555,\n",
       " 580]"
      ]
     },
     "execution_count": 33,
     "metadata": {},
     "output_type": "execute_result"
    }
   ],
   "source": [
    "# create a list of k values to test for preliminary understanding of parameter k\n",
    "k_lst = [*range(5, 600, 25)]\n",
    "k_lst"
   ]
  },
  {
   "cell_type": "code",
   "execution_count": 34,
   "id": "8a8fc215",
   "metadata": {},
   "outputs": [],
   "source": [
    "# initialize empty dictionary to store results\n",
    "predictions = {}\n",
    "\n",
    "# iterate through all of the random k values\n",
    "for k in k_lst: \n",
    "    # initialize the classifier and set the number of neighbors as k\n",
    "    knn_reg = KNeighborsRegressor(n_neighbors = k)\n",
    "    # fit the model and predict ratings\n",
    "    knn_reg.fit(X_train, y_train)\n",
    "    y_pred = knn_reg.predict(X_test)\n",
    "    # store predictions and mse scores in dictionary\n",
    "    predictions[k] = mean_squared_error(y_test, y_pred)"
   ]
  },
  {
   "cell_type": "code",
   "execution_count": 35,
   "id": "3f6dab7d",
   "metadata": {},
   "outputs": [
    {
     "data": {
      "text/plain": [
       "{5: 1.1444823204647439,\n",
       " 30: 0.9920878778138371,\n",
       " 55: 0.9794958653794114,\n",
       " 80: 0.9744672823358334,\n",
       " 105: 0.9713257725235833,\n",
       " 130: 0.9699623470168528,\n",
       " 155: 0.9689087233247548,\n",
       " 180: 0.9682789171738468,\n",
       " 205: 0.9681394130166964,\n",
       " 230: 0.9676964970792298,\n",
       " 255: 0.9671423407849596,\n",
       " 280: 0.9669621798379352,\n",
       " 305: 0.9667557928991447,\n",
       " 330: 0.9665399411237545,\n",
       " 355: 0.9663380952383561,\n",
       " 380: 0.9663194046700795,\n",
       " 405: 0.9660790099875474,\n",
       " 430: 0.9659946675476484,\n",
       " 455: 0.9658807175610385,\n",
       " 480: 0.9657604296686063,\n",
       " 505: 0.965590382850074,\n",
       " 530: 0.9656513964683249,\n",
       " 555: 0.9655814414516621,\n",
       " 580: 0.96560359094756}"
      ]
     },
     "execution_count": 35,
     "metadata": {},
     "output_type": "execute_result"
    }
   ],
   "source": [
    "# inspect predictions dict\n",
    "predictions"
   ]
  },
  {
   "cell_type": "code",
   "execution_count": 36,
   "id": "41f48bac",
   "metadata": {},
   "outputs": [
    {
     "data": {
      "image/png": "[encoded data removed]",
      "text/plain": [
       "<Figure size 432x288 with 1 Axes>"
      ]
     },
     "metadata": {},
     "output_type": "display_data"
    }
   ],
   "source": [
    "# plot predictions and mse to gauge hyperparameter tuning range\n",
    "import seaborn as sns\n",
    "sns.lineplot(x=predictions.keys(), y=predictions.values())\n",
    "plt.xlabel(\"K Value\")\n",
    "plt.ylabel('Mean Squared Error')\n",
    "plt.title('Ratings KNN Model MSE for Different Values of K')\n",
    "plt.show()"
   ]
  },
  {
   "cell_type": "markdown",
   "id": "26c7f241",
   "metadata": {},
   "source": [
    "### The linegraph above gives us a ballpark of the diminishing effectiveness of larger k values."
   ]
  },
  {
   "cell_type": "code",
   "execution_count": 37,
   "id": "1648cf0c",
   "metadata": {},
   "outputs": [
    {
     "data": {
      "text/plain": [
       "{'n_neighbors': 159}"
      ]
     },
     "execution_count": 37,
     "metadata": {},
     "output_type": "execute_result"
    }
   ],
   "source": [
    "# initiate gridsearch based on the range of interest identified above\n",
    "params = {'n_neighbors': np.arange(90,160)}\n",
    "\n",
    "knn = KNeighborsRegressor()\n",
    "knn_model = GridSearchCV(knn, params, cv=5)\n",
    "knn_model.fit(X_train,y_train)\n",
    "\n",
    "# reveal best k parameter\n",
    "knn_model.best_params_"
   ]
  },
  {
   "cell_type": "markdown",
   "id": "08b84ca9",
   "metadata": {},
   "source": [
    "## Model 2: Decision Tree Model"
   ]
  },
  {
   "cell_type": "code",
   "execution_count": 38,
   "id": "507793a2",
   "metadata": {},
   "outputs": [],
   "source": [
    "# import necessary libraries\n",
    "from sklearn.tree import DecisionTreeRegressor\n",
    "from sklearn.metrics import mean_squared_error\n",
    "from sklearn.ensemble import RandomForestRegressor\n",
    "from sklearn.neighbors import KNeighborsRegressor"
   ]
  },
  {
   "cell_type": "code",
   "execution_count": 39,
   "id": "585c8225",
   "metadata": {},
   "outputs": [
    {
     "data": {
      "text/plain": [
       "DecisionTreeRegressor(max_depth=20, random_state=7)"
      ]
     },
     "execution_count": 39,
     "metadata": {},
     "output_type": "execute_result"
    }
   ],
   "source": [
    "# initialize and fit data to decision tree\n",
    "dt = DecisionTreeRegressor(random_state=7, max_depth = 20)\n",
    "dt.fit(X_train, y_train)\n"
   ]
  },
  {
   "cell_type": "code",
   "execution_count": 40,
   "id": "a8309ea0",
   "metadata": {},
   "outputs": [
    {
     "name": "stdout",
     "output_type": "stream",
     "text": [
      "The predicted rating is: [4.11463633 3.         4.42248887 ... 4.51859147 5.         4.38268464]\n"
     ]
    }
   ],
   "source": [
    "#predict the labels for the test set\n",
    "y_pred_dt   = dt.predict(X_test)\n",
    "print('The predicted rating is: {}'.format(y_pred_dt))\n"
   ]
  },
  {
   "cell_type": "code",
   "execution_count": 41,
   "id": "85c994eb",
   "metadata": {},
   "outputs": [
    {
     "name": "stdout",
     "output_type": "stream",
     "text": [
      "The mse of the model is: 1.3754056590217207\n"
     ]
    }
   ],
   "source": [
    "# Evaluate the Predictions\n",
    "dec_tree_mse = mean_squared_error(y_test, y_pred_dt)\n",
    "print('The mse of the model is: {}'.format(dec_tree_mse))\n"
   ]
  },
  {
   "cell_type": "markdown",
   "id": "2abc0ea0",
   "metadata": {},
   "source": [
    "## Model 3: Random Forest Regressor"
   ]
  },
  {
   "cell_type": "code",
   "execution_count": 42,
   "id": "fbe29aad",
   "metadata": {},
   "outputs": [
    {
     "data": {
      "text/plain": [
       "RandomForestRegressor(random_state=0)"
      ]
     },
     "execution_count": 42,
     "metadata": {},
     "output_type": "execute_result"
    }
   ],
   "source": [
    "# initialize random forest regressor and fit data to model\n",
    "rf = RandomForestRegressor(random_state = 0, n_estimators = 100)\n",
    "rf.fit(X_train, y_train)"
   ]
  },
  {
   "cell_type": "code",
   "execution_count": 43,
   "id": "2f8a1aef",
   "metadata": {},
   "outputs": [
    {
     "name": "stdout",
     "output_type": "stream",
     "text": [
      "The mean squared error for the random forest regressor is: 1.009546625342863\n"
     ]
    }
   ],
   "source": [
    "# use model to predict test data\n",
    "y_pred = rf.predict(X_test)\n",
    "\n",
    "# calc mse for predictions vs actual\n",
    "mse = mean_squared_error(y_test, y_pred)\n",
    "print('The mean squared error for the random forest regressor is:', mse)"
   ]
  },
  {
   "cell_type": "code",
   "execution_count": 44,
   "id": "05a8b7b4",
   "metadata": {},
   "outputs": [],
   "source": [
    "#Hyperparameter tuning\n",
    "n_estimator_arr = [200, 175, 150] #an array that stores 3 n_estimators different from the default value\n",
    "mse_arr = [] #an array that stores 3 mean squared errors of the 3 models tried with the 3 n_estimators above\n"
   ]
  },
  {
   "cell_type": "code",
   "execution_count": 45,
   "id": "fb9f4dc9",
   "metadata": {},
   "outputs": [],
   "source": [
    "#build 3 new models and predict y 3 times using the 3 n_estimators and print out their respective mse in an array\n",
    "for item in n_estimator_arr:\n",
    "    new_rf = RandomForestRegressor(random_state=7, n_estimators = item)\n",
    "    new_rf.fit(X_train, y_train)\n",
    "    y_pred   = new_rf.predict(X_test)\n",
    "    new_mse = mean_squared_error(y_test, y_pred)\n",
    "    mse_arr.append(new_mse)\n"
   ]
  },
  {
   "cell_type": "code",
   "execution_count": 46,
   "id": "749594b7",
   "metadata": {},
   "outputs": [
    {
     "name": "stdout",
     "output_type": "stream",
     "text": [
      "[1.0033235131108325, 1.0037585835632858, 1.0050007009034847]\n"
     ]
    }
   ],
   "source": [
    "print(mse_arr) #print the three mean squared errors"
   ]
  },
  {
   "cell_type": "code",
   "execution_count": null,
   "id": "3f4c641f",
   "metadata": {},
   "outputs": [],
   "source": [
    "# initiate a gridsearch for hyperparameter tuning, and find the best n_estimartor to use in the model.\n",
    "params = {'n_estimators': np.arange(225, 275)}\n",
    "rfr = RandomForestRegressor()\n",
    "rfr_grid = GridSearchCV(estimator = rfr, param_grid = params, return_train_score = True) \n",
    "rfr_grid.fit(X_train, y_train)\n",
    "\n",
    "print(rfr_grid.best_params_)\n",
    "print(rfr_grid.best_score_)"
   ]
  },
  {
   "cell_type": "markdown",
   "id": "761ac129",
   "metadata": {},
   "source": [
    "## Feature importance"
   ]
  },
  {
   "cell_type": "code",
   "execution_count": 50,
   "id": "1ea317b6",
   "metadata": {},
   "outputs": [
    {
     "data": {
      "text/plain": [
       "array([0.08655053, 0.09754696, 0.09280164, 0.18411648, 0.09327929,\n",
       "       0.13818736, 0.11421365, 0.11258019, 0.08072388])"
      ]
     },
     "execution_count": 50,
     "metadata": {},
     "output_type": "execute_result"
    }
   ],
   "source": [
    "#Get an array of importance measures of all features using the best RandomForestRegressor model\n",
    "rf.feature_importances_"
   ]
  },
  {
   "cell_type": "code",
   "execution_count": 51,
   "id": "12e0c9d8",
   "metadata": {},
   "outputs": [
    {
     "data": {
      "text/plain": [
       "Text(0.5, 1.0, 'Feature Importance of Model')"
      ]
     },
     "execution_count": 51,
     "metadata": {},
     "output_type": "execute_result"
    },
    {
     "data": {
      "image/png": "[encoded data removed]",
      "text/plain": [
       "<Figure size 432x288 with 1 Axes>"
      ]
     },
     "metadata": {},
     "output_type": "display_data"
    }
   ],
   "source": [
    "#Plot the feature importances from most important to least\n",
    "sorted_idx = rf.feature_importances_.argsort()\n",
    "plt.barh(X_train.columns[sorted_idx], rf.feature_importances_[sorted_idx])\n",
    "plt.xlabel(\"Random Forest Feature Importance\")\n",
    "plt.ylabel(\"Features\")\n",
    "plt.title('Feature Importance of Model')"
   ]
  },
  {
   "cell_type": "code",
   "execution_count": 58,
   "id": "e1ec0b9e",
   "metadata": {},
   "outputs": [
    {
     "data": {
      "text/plain": [
       "Text(0, 0.5, 'MSE')"
      ]
     },
     "execution_count": 58,
     "metadata": {},
     "output_type": "execute_result"
    },
    {
     "data": {
      "image/png": "[encoded data removed]",
      "text/plain": [
       "<Figure size 432x288 with 1 Axes>"
      ]
     },
     "metadata": {},
     "output_type": "display_data"
    }
   ],
   "source": [
    "best_mse = [predictions[580], mse, mse_arr[0]]\n",
    "best_mse_names = ['knn regressor', 'decision tree', 'random forest']\n",
    "plt.bar(best_mse_names, best_mse)\n",
    "plt.title('Comparison of MSE Values for 3 Rating Models')\n",
    "plt.ylabel('MSE')"
   ]
  },
  {
   "cell_type": "code",
   "execution_count": 59,
   "id": "10e31e8a",
   "metadata": {},
   "outputs": [
    {
     "name": "stdout",
     "output_type": "stream",
     "text": [
      "[0.96560359094756, 1.009546625342863, 1.0033235131108325]\n"
     ]
    }
   ],
   "source": [
    "print(best_mse)"
   ]
  }
 ],
 "metadata": {
  "kernelspec": {
   "display_name": "Python 3 (ipykernel)",
   "language": "python",
   "name": "python3"
  },
  "language_info": {
   "codemirror_mode": {
    "name": "ipython",
    "version": 3
   },
   "file_extension": ".py",
   "mimetype": "text/x-python",
   "name": "python",
   "nbconvert_exporter": "python",
   "pygments_lexer": "ipython3",
   "version": "3.8.2"
  }
 },
 "nbformat": 4,
 "nbformat_minor": 5
}
